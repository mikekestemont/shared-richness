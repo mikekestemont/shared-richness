{
 "cells": [
  {
   "cell_type": "code",
   "execution_count": 107,
   "metadata": {
    "vscode": {
     "languageId": "r"
    }
   },
   "outputs": [],
   "source": [
    "library(readxl)\n",
    "library(SpadeR)\n",
    "set.seed(123)"
   ]
  },
  {
   "cell_type": "markdown",
   "metadata": {},
   "source": [
    "Load the three datasets:"
   ]
  },
  {
   "cell_type": "code",
   "execution_count": 108,
   "metadata": {
    "vscode": {
     "languageId": "r"
    }
   },
   "outputs": [
    {
     "data": {
      "text/html": [
       "<table class=\"dataframe\">\n",
       "<caption>A data.frame: 6 x 2</caption>\n",
       "<thead>\n",
       "\t<tr><th></th><th scope=col>S1</th><th scope=col>S2</th></tr>\n",
       "\t<tr><th></th><th scope=col>&lt;int&gt;</th><th scope=col>&lt;int&gt;</th></tr>\n",
       "</thead>\n",
       "<tbody>\n",
       "\t<tr><th scope=row>1</th><td> 6</td><td>0</td></tr>\n",
       "\t<tr><th scope=row>2</th><td> 1</td><td>2</td></tr>\n",
       "\t<tr><th scope=row>3</th><td> 1</td><td>0</td></tr>\n",
       "\t<tr><th scope=row>4</th><td> 0</td><td>1</td></tr>\n",
       "\t<tr><th scope=row>5</th><td> 0</td><td>5</td></tr>\n",
       "\t<tr><th scope=row>6</th><td>18</td><td>0</td></tr>\n",
       "</tbody>\n",
       "</table>\n"
      ],
      "text/latex": [
       "A data.frame: 6 x 2\n",
       "\\begin{tabular}{r|ll}\n",
       "  & S1 & S2\\\\\n",
       "  & <int> & <int>\\\\\n",
       "\\hline\n",
       "\t1 &  6 & 0\\\\\n",
       "\t2 &  1 & 2\\\\\n",
       "\t3 &  1 & 0\\\\\n",
       "\t4 &  0 & 1\\\\\n",
       "\t5 &  0 & 5\\\\\n",
       "\t6 & 18 & 0\\\\\n",
       "\\end{tabular}\n"
      ],
      "text/markdown": [
       "\n",
       "A data.frame: 6 x 2\n",
       "\n",
       "| <!--/--> | S1 &lt;int&gt; | S2 &lt;int&gt; |\n",
       "|---|---|---|\n",
       "| 1 |  6 | 0 |\n",
       "| 2 |  1 | 2 |\n",
       "| 3 |  1 | 0 |\n",
       "| 4 |  0 | 1 |\n",
       "| 5 |  0 | 5 |\n",
       "| 6 | 18 | 0 |\n",
       "\n"
      ],
      "text/plain": [
       "  S1 S2\n",
       "1  6 0 \n",
       "2  1 2 \n",
       "3  1 0 \n",
       "4  0 1 \n",
       "5  0 5 \n",
       "6 18 0 "
      ]
     },
     "metadata": {},
     "output_type": "display_data"
    }
   ],
   "source": [
    "chivalry <- read_excel(\"../data/FR-DU.xlsx\")\n",
    "colnames(chivalry) <- c(\"species\", \"S1\", \"S2\", \"comments\")\n",
    "chivalry <- chivalry[c(\"S1\", \"S2\")]\n",
    "chivalry$S1 <- as.integer(chivalry$S1)\n",
    "chivalry$S2 <- as.integer(chivalry$S2)\n",
    "chivalry <- as.data.frame(chivalry)\n",
    "head(chivalry)"
   ]
  },
  {
   "cell_type": "code",
   "execution_count": 109,
   "metadata": {
    "vscode": {
     "languageId": "r"
    }
   },
   "outputs": [
    {
     "data": {
      "text/html": [
       "<table class=\"dataframe\">\n",
       "<caption>A data.frame: 6 x 2</caption>\n",
       "<thead>\n",
       "\t<tr><th></th><th scope=col>S1</th><th scope=col>S2</th></tr>\n",
       "\t<tr><th></th><th scope=col>&lt;int&gt;</th><th scope=col>&lt;int&gt;</th></tr>\n",
       "</thead>\n",
       "<tbody>\n",
       "\t<tr><th scope=row>1</th><td> 11</td><td>21</td></tr>\n",
       "\t<tr><th scope=row>2</th><td>110</td><td>11</td></tr>\n",
       "\t<tr><th scope=row>3</th><td> 36</td><td> 7</td></tr>\n",
       "\t<tr><th scope=row>4</th><td> 12</td><td> 1</td></tr>\n",
       "\t<tr><th scope=row>5</th><td>  2</td><td> 0</td></tr>\n",
       "\t<tr><th scope=row>6</th><td>  7</td><td> 1</td></tr>\n",
       "</tbody>\n",
       "</table>\n"
      ],
      "text/latex": [
       "A data.frame: 6 x 2\n",
       "\\begin{tabular}{r|ll}\n",
       "  & S1 & S2\\\\\n",
       "  & <int> & <int>\\\\\n",
       "\\hline\n",
       "\t1 &  11 & 21\\\\\n",
       "\t2 & 110 & 11\\\\\n",
       "\t3 &  36 &  7\\\\\n",
       "\t4 &  12 &  1\\\\\n",
       "\t5 &   2 &  0\\\\\n",
       "\t6 &   7 &  1\\\\\n",
       "\\end{tabular}\n"
      ],
      "text/markdown": [
       "\n",
       "A data.frame: 6 x 2\n",
       "\n",
       "| <!--/--> | S1 &lt;int&gt; | S2 &lt;int&gt; |\n",
       "|---|---|---|\n",
       "| 1 |  11 | 21 |\n",
       "| 2 | 110 | 11 |\n",
       "| 3 |  36 |  7 |\n",
       "| 4 |  12 |  1 |\n",
       "| 5 |   2 |  0 |\n",
       "| 6 |   7 |  1 |\n",
       "\n"
      ],
      "text/plain": [
       "  S1  S2\n",
       "1  11 21\n",
       "2 110 11\n",
       "3  36  7\n",
       "4  12  1\n",
       "5   2  0\n",
       "6   7  1"
      ]
     },
     "metadata": {},
     "output_type": "display_data"
    }
   ],
   "source": [
    "trees <- read.csv(\"../data/trees.csv\", header=TRUE, sep=\" \")\n",
    "trees$species <- rownames(trees)\n",
    "rownames(trees) <- NULL\n",
    "colnames(trees) <- c(\"S1\", \"S2\", \"species\")\n",
    "trees <- trees[c(\"S1\", \"S2\")]\n",
    "trees$S1 <- as.integer(trees$S1)\n",
    "trees$S2 <- as.integer(trees$S2)\n",
    "head(trees)"
   ]
  },
  {
   "cell_type": "code",
   "execution_count": 110,
   "metadata": {
    "vscode": {
     "languageId": "r"
    }
   },
   "outputs": [
    {
     "data": {
      "text/html": [
       "<table class=\"dataframe\">\n",
       "<caption>A data.frame: 6 x 2</caption>\n",
       "<thead>\n",
       "\t<tr><th></th><th scope=col>S1</th><th scope=col>S2</th></tr>\n",
       "\t<tr><th></th><th scope=col>&lt;int&gt;</th><th scope=col>&lt;int&gt;</th></tr>\n",
       "</thead>\n",
       "<tbody>\n",
       "\t<tr><th scope=row>1</th><td>65</td><td>123</td></tr>\n",
       "\t<tr><th scope=row>2</th><td>56</td><td> 84</td></tr>\n",
       "\t<tr><th scope=row>3</th><td>42</td><td> 39</td></tr>\n",
       "\t<tr><th scope=row>4</th><td>38</td><td> 56</td></tr>\n",
       "\t<tr><th scope=row>5</th><td>33</td><td> 45</td></tr>\n",
       "\t<tr><th scope=row>6</th><td>28</td><td> 26</td></tr>\n",
       "</tbody>\n",
       "</table>\n"
      ],
      "text/latex": [
       "A data.frame: 6 x 2\n",
       "\\begin{tabular}{r|ll}\n",
       "  & S1 & S2\\\\\n",
       "  & <int> & <int>\\\\\n",
       "\\hline\n",
       "\t1 & 65 & 123\\\\\n",
       "\t2 & 56 &  84\\\\\n",
       "\t3 & 42 &  39\\\\\n",
       "\t4 & 38 &  56\\\\\n",
       "\t5 & 33 &  45\\\\\n",
       "\t6 & 28 &  26\\\\\n",
       "\\end{tabular}\n"
      ],
      "text/markdown": [
       "\n",
       "A data.frame: 6 x 2\n",
       "\n",
       "| <!--/--> | S1 &lt;int&gt; | S2 &lt;int&gt; |\n",
       "|---|---|---|\n",
       "| 1 | 65 | 123 |\n",
       "| 2 | 56 |  84 |\n",
       "| 3 | 42 |  39 |\n",
       "| 4 | 38 |  56 |\n",
       "| 5 | 33 |  45 |\n",
       "| 6 | 28 |  26 |\n",
       "\n"
      ],
      "text/plain": [
       "  S1 S2 \n",
       "1 65 123\n",
       "2 56  84\n",
       "3 42  39\n",
       "4 38  56\n",
       "5 33  45\n",
       "6 28  26"
      ]
     },
     "metadata": {},
     "output_type": "display_data"
    }
   ],
   "source": [
    "folktales <- read.csv(\"../data/dfd-jaarsma.csv\")\n",
    "colnames(folktales) <- c(\"S1\", \"S2\")\n",
    "folktales$S1 <- as.integer(folktales$S1)\n",
    "folktales$S2 <- as.integer(folktales$S2)\n",
    "head(folktales)"
   ]
  },
  {
   "cell_type": "code",
   "execution_count": 111,
   "metadata": {
    "vscode": {
     "languageId": "r"
    }
   },
   "outputs": [
    {
     "name": "stdout",
     "output_type": "stream",
     "text": [
      "[1] \"Trees:\"\n"
     ]
    },
    {
     "data": {
      "text/plain": [
       "\n",
       "(1) BASIC DATA INFORMATION:\n",
       "\n",
       "    Sample size in Community 1                      n1  =  1794 \n",
       "    Sample size in Community 2                      n2  =  2074 \n",
       "    Number of observed species in Community 1       D1  =  319 \n",
       "    Number of observed species in Community 2       D2  =  356 \n",
       "    Number of observed shared species               D12 =  250 \n",
       "    Bootstrap replications for s.e. estimate               200 \n",
       "\n",
       "    \"Entire\" Shared Species Group: \n",
       "         Some statistics: \n",
       "         --------------------------------------------------------------------------- \n",
       "         f[11] = 25 ;  f[1+] = 60 ; f[+1] = 64 ;  f[2+] = 37 ;  f[+2] = 30 ; f[22] = 7 \n",
       "         --------------------------------------------------------------------------- \n",
       "\n",
       "    \"Rare\" Shared Species Group: (Both frequencies can only up to 10) \n",
       "         Some statistics: \n",
       "         ------------------------------------------------------------------- \n",
       "         f[1+]_rare = 58 ; f[+1]_rare = 62 ;  f[2+]_rare = 33 ;  f[+2]_rare = 28 \n",
       "         ------------------------------------------------------------------- \n",
       "    Number of observed individuals in Community 1     n1_rare   =  712 \n",
       "    Number of observed individuals in Community 2     n2_rare   =  853 \n",
       "    Number of observed shared species                 D12_rare  =  188 \n",
       "    Estimated sample coverage                         C12_rare  =  0.876 \n",
       "    Estimated CCVs                                    CCV_1     =  0.609 \n",
       "                                                      CCV_2     =  0.656 \n",
       "                                                      CCV_12    =  0.362 \n",
       "\n",
       "\n",
       "(2) ESTIMATION RESULTS OF THE NUMBER OF SHARED SPECIES:\n",
       "\n",
       "                              Estimate   s.e. 95%Lower 95%Upper\n",
       "    Homogeneous                276.547  9.775  263.025  303.103\n",
       "    Heterogeneous(ACE-shared)  373.611 26.966  330.932  438.520\n",
       "    Chao1-shared               389.154 39.483  330.541  489.898\n",
       "    Chao1-shared-bc            380.284 36.256  326.170  472.345\n",
       "\n",
       "\n",
       "(3) DESCRIPTION OF MODELS FOR ESTIMATING SHARED SPECIES RICHNESS:\n",
       "\n",
       "Homogeneous: This model assumes that the shared species in each community have the same discovery probabilities; see the Eq. (3.11a) of Chao et al. (2000).\n",
       "\n",
       "Heterogeneous (ACE-shared): This model allows for heterogeneous discovery probabilities among shared species; see Eq. (3.11b) of Chao et al. (2000). It is an extension of the ACE estimator to two communities. It is replaced by Chao1-shared when the estimated sample coverage for rare shared species group (C12_rare in the output) is zero.\n",
       "\n",
       "Chao1-shared: An extension of the Chao1 estimator to estimate shared species richness between two communities. It provides a lower bound of shared species richness. See Eq. (3.6) of Pan et al. (2009). It is replaced by Chao1-shared-bc for the case f[2+]=0 or f[+2]=0.\n",
       "   \n",
       "Chao1-shared-bc: A bias-corrected form of Chao1-shared estimator; See Pan et al. (2009).\n",
       "\t"
      ]
     },
     "metadata": {},
     "output_type": "display_data"
    }
   ],
   "source": [
    "print('Trees:')\n",
    "ChaoShared(trees, \"abundance\", se = TRUE, nboot = 200, conf = 0.95)"
   ]
  },
  {
   "cell_type": "code",
   "execution_count": 112,
   "metadata": {
    "vscode": {
     "languageId": "r"
    }
   },
   "outputs": [
    {
     "name": "stdout",
     "output_type": "stream",
     "text": [
      "[1] \"Folktales:\"\n"
     ]
    },
    {
     "data": {
      "text/plain": [
       "\n",
       "(1) BASIC DATA INFORMATION:\n",
       "\n",
       "    Sample size in Community 1                      n1  =  1065 \n",
       "    Sample size in Community 2                      n2  =  1448 \n",
       "    Number of observed species in Community 1       D1  =  296 \n",
       "    Number of observed species in Community 2       D2  =  247 \n",
       "    Number of observed shared species               D12 =  136 \n",
       "    Bootstrap replications for s.e. estimate               200 \n",
       "\n",
       "    \"Entire\" Shared Species Group: \n",
       "         Some statistics: \n",
       "         --------------------------------------------------------------------------- \n",
       "         f[11] = 26 ;  f[1+] = 37 ; f[+1] = 45 ;  f[2+] = 26 ;  f[+2] = 21 ; f[22] = 5 \n",
       "         --------------------------------------------------------------------------- \n",
       "\n",
       "    \"Rare\" Shared Species Group: (Both frequencies can only up to 10) \n",
       "         Some statistics: \n",
       "         ------------------------------------------------------------------- \n",
       "         f[1+]_rare = 36 ; f[+1]_rare = 45 ;  f[2+]_rare = 23 ;  f[+2]_rare = 21 \n",
       "         ------------------------------------------------------------------- \n",
       "    Number of observed individuals in Community 1     n1_rare   =  459 \n",
       "    Number of observed individuals in Community 2     n2_rare   =  401 \n",
       "    Number of observed shared species                 D12_rare  =  93 \n",
       "    Estimated sample coverage                         C12_rare  =  0.877 \n",
       "    Estimated CCVs                                    CCV_1     =  0.713 \n",
       "                                                      CCV_2     =  1.129 \n",
       "                                                      CCV_12    =  0.98 \n",
       "\n",
       "\n",
       "(2) ESTIMATION RESULTS OF THE NUMBER OF SHARED SPECIES:\n",
       "\n",
       "                              Estimate   s.e. 95%Lower 95%Upper\n",
       "    Homogeneous                149.034  7.276  140.393  171.516\n",
       "    Heterogeneous(ACE-shared)  265.254 27.752  221.188  331.851\n",
       "    Chao1-shared               244.228 41.389  188.278  358.933\n",
       "    Chao1-shared-bc            232.652 35.423  184.023  329.516\n",
       "\n",
       "\n",
       "(3) DESCRIPTION OF MODELS FOR ESTIMATING SHARED SPECIES RICHNESS:\n",
       "\n",
       "Homogeneous: This model assumes that the shared species in each community have the same discovery probabilities; see the Eq. (3.11a) of Chao et al. (2000).\n",
       "\n",
       "Heterogeneous (ACE-shared): This model allows for heterogeneous discovery probabilities among shared species; see Eq. (3.11b) of Chao et al. (2000). It is an extension of the ACE estimator to two communities. It is replaced by Chao1-shared when the estimated sample coverage for rare shared species group (C12_rare in the output) is zero.\n",
       "\n",
       "Chao1-shared: An extension of the Chao1 estimator to estimate shared species richness between two communities. It provides a lower bound of shared species richness. See Eq. (3.6) of Pan et al. (2009). It is replaced by Chao1-shared-bc for the case f[2+]=0 or f[+2]=0.\n",
       "   \n",
       "Chao1-shared-bc: A bias-corrected form of Chao1-shared estimator; See Pan et al. (2009).\n",
       "\t"
      ]
     },
     "metadata": {},
     "output_type": "display_data"
    }
   ],
   "source": [
    "print('Folktales:')\n",
    "ChaoShared(folktales, \"abundance\", se = TRUE, nboot = 200, conf = 0.95)"
   ]
  },
  {
   "cell_type": "code",
   "execution_count": 113,
   "metadata": {
    "vscode": {
     "languageId": "r"
    }
   },
   "outputs": [
    {
     "name": "stdout",
     "output_type": "stream",
     "text": [
      "[1] \"Chivalry:\"\n"
     ]
    },
    {
     "data": {
      "text/plain": [
       "\n",
       "(1) BASIC DATA INFORMATION:\n",
       "\n",
       "    Sample size in Community 1                      n1  =  1546 \n",
       "    Sample size in Community 2                      n2  =  164 \n",
       "    Number of observed species in Community 1       D1  =  223 \n",
       "    Number of observed species in Community 2       D2  =  71 \n",
       "    Number of observed shared species               D12 =  37 \n",
       "    Bootstrap replications for s.e. estimate               200 \n",
       "\n",
       "    \"Entire\" Shared Species Group: \n",
       "         Some statistics: \n",
       "         --------------------------------------------------------------------------- \n",
       "         f[11] = 3 ;  f[1+] = 6 ; f[+1] = 16 ;  f[2+] = 3 ;  f[+2] = 7 ; f[22] = 1 \n",
       "         --------------------------------------------------------------------------- \n",
       "\n",
       "    \"Rare\" Shared Species Group: (Both frequencies can only up to 10) \n",
       "         Some statistics: \n",
       "         ------------------------------------------------------------------- \n",
       "         f[1+]_rare = 6 ; f[+1]_rare = 12 ;  f[2+]_rare = 3 ;  f[+2]_rare = 4 \n",
       "         ------------------------------------------------------------------- \n",
       "    Number of observed individuals in Community 1     n1_rare   =  1028 \n",
       "    Number of observed individuals in Community 2     n2_rare   =  107 \n",
       "    Number of observed shared species                 D12_rare  =  22 \n",
       "    Estimated sample coverage                         C12_rare  =  0.724 \n",
       "    Estimated CCVs                                    CCV_1     =  0.807 \n",
       "                                                      CCV_2     =  1.44 \n",
       "                                                      CCV_12    =  0.707 \n",
       "\n",
       "\n",
       "(2) ESTIMATION RESULTS OF THE NUMBER OF SHARED SPECIES:\n",
       "\n",
       "                              Estimate   s.e. 95%Lower 95%Upper\n",
       "    Homogeneous                 45.400  5.786   39.477   65.487\n",
       "    Heterogeneous(ACE-shared)   78.893 15.475   57.783  121.443\n",
       "    Chao1-shared                63.405 16.121   45.762  116.579\n",
       "    Chao1-shared-bc             56.401 11.514   43.611   93.939\n",
       "\n",
       "\n",
       "(3) DESCRIPTION OF MODELS FOR ESTIMATING SHARED SPECIES RICHNESS:\n",
       "\n",
       "Homogeneous: This model assumes that the shared species in each community have the same discovery probabilities; see the Eq. (3.11a) of Chao et al. (2000).\n",
       "\n",
       "Heterogeneous (ACE-shared): This model allows for heterogeneous discovery probabilities among shared species; see Eq. (3.11b) of Chao et al. (2000). It is an extension of the ACE estimator to two communities. It is replaced by Chao1-shared when the estimated sample coverage for rare shared species group (C12_rare in the output) is zero.\n",
       "\n",
       "Chao1-shared: An extension of the Chao1 estimator to estimate shared species richness between two communities. It provides a lower bound of shared species richness. See Eq. (3.6) of Pan et al. (2009). It is replaced by Chao1-shared-bc for the case f[2+]=0 or f[+2]=0.\n",
       "   \n",
       "Chao1-shared-bc: A bias-corrected form of Chao1-shared estimator; See Pan et al. (2009).\n",
       "\t"
      ]
     },
     "metadata": {},
     "output_type": "display_data"
    }
   ],
   "source": [
    "print('Chivalry:')\n",
    "ChaoShared(chivalry, \"abundance\", se = TRUE, nboot = 200, conf = 0.95)"
   ]
  }
 ],
 "metadata": {
  "kernelspec": {
   "display_name": "R",
   "language": "R",
   "name": "ir"
  },
  "language_info": {
   "codemirror_mode": "r",
   "file_extension": ".r",
   "mimetype": "text/x-r-source",
   "name": "R",
   "pygments_lexer": "r",
   "version": "4.3.0"
  }
 },
 "nbformat": 4,
 "nbformat_minor": 2
}
